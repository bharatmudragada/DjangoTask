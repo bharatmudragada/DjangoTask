{
 "cells": [
  {
   "cell_type": "code",
   "execution_count": 1,
   "metadata": {},
   "outputs": [],
   "source": [
    "import django\n",
    "import os\n",
    "os.environ[\"DJANGO_SETTINGS_MODULE\"] = \"FacebookPosts.settings\"\n",
    "django.setup()"
   ]
  },
  {
   "cell_type": "code",
   "execution_count": 8,
   "metadata": {},
   "outputs": [
    {
     "name": "stdout",
     "output_type": "stream",
     "text": [
      "\u001b[1m============================= test session starts ==============================\u001b[0m\r\n",
      "platform linux -- Python 3.7.3, pytest-5.0.1, py-1.8.0, pluggy-0.12.0\r\n",
      "Django settings: FacebookPosts.settings (from environment variable)\r\n",
      "rootdir: /home/ib_admin/PycharmProjects/FacebookPosts/FacebookPosts, inifile: pytest.ini\r\n",
      "plugins: django-3.5.1\r\n",
      "\u001b[1mcollecting ... \u001b[0m\u001b[1m\r",
      "collected 0 items                                                              \u001b[0m\r\n",
      "\r\n",
      "\u001b[33m\u001b[1m========================= no tests ran in 0.00 seconds =========================\u001b[0m\r\n",
      "\u001b[31mERROR: not found: /home/ib_admin/PycharmProjects/FacebookPosts/FacebookPosts/Database_Testing.ipynb\r\n",
      "(no name '/home/ib_admin/PycharmProjects/FacebookPosts/FacebookPosts/Database_Testing.ipynb' in any of [])\r\n",
      "\u001b[0m\r\n"
     ]
    }
   ],
   "source": [
    "import pytest\n",
    "\n",
    "@pytest.mark.django_db\n",
    "def test_my_user():\n",
    "    print(\"in\")\n",
    "    me = User.objects.get(username='me')\n",
    "    assert me.is_superuser\n",
    "    \n",
    "!pytest Database_Testing.ipynb"
   ]
  }
 ],
 "metadata": {
  "kernelspec": {
   "display_name": "Python 3",
   "language": "python",
   "name": "python3"
  },
  "language_info": {
   "codemirror_mode": {
    "name": "ipython",
    "version": 3
   },
   "file_extension": ".py",
   "mimetype": "text/x-python",
   "name": "python",
   "nbconvert_exporter": "python",
   "pygments_lexer": "ipython3",
   "version": "3.7.3"
  }
 },
 "nbformat": 4,
 "nbformat_minor": 2
}
